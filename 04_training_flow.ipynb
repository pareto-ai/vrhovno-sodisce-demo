{
 "cells": [
  {
   "cell_type": "code",
   "execution_count": null,
   "metadata": {},
   "outputs": [],
   "source": [
    "import json\n",
    "\n",
    "import classla\n",
    "from pathlib import Path\n",
    "from src.nlp.model import EntType\n",
    "from src.nlp.text_processor import TextProcessor\n",
    "from src.parse import (\n",
    "    pdf_to_text,\n",
    "    _find_entity,\n",
    "    _map_titles_to_abbreviations,\n",
    "    _normalize_input_for_clen,\n",
    ")\n",
    "import re\n",
    "from spacy import displacy\n",
    "from collections import namedtuple\n",
    "\n",
    "classla.download(\"sl\")"
   ]
  },
  {
   "cell_type": "code",
   "execution_count": 2,
   "metadata": {},
   "outputs": [],
   "source": [
    "with open(\"./data/training/VS00000317.json\", \"r\", encoding=\"utf-8\") as f:\n",
    "    training_document = json.load(f)\n"
   ]
  },
  {
   "cell_type": "code",
   "execution_count": null,
   "metadata": {},
   "outputs": [],
   "source": [
    "tp = TextProcessor(mappings_path=Path(\"./data/mappings/mappings_all.parquet\"))"
   ]
  },
  {
   "cell_type": "code",
   "execution_count": 4,
   "metadata": {},
   "outputs": [],
   "source": [
    "jedro = training_document[\"content\"][\"jedro\"]\n",
    "zveza_true = training_document[\"processed\"][\"zveza\"]\n",
    "text_to_process = training_document[\"content\"][\"obrazložitev\"]\n",
    "# text_to_process = \"nek test 13. in 14. clen ZPP in nek test\"\n",
    "# text_to_process = \"nek test 13. in 14.a clen ZPP in nek test\""
   ]
  },
  {
   "cell_type": "code",
   "execution_count": 5,
   "metadata": {},
   "outputs": [],
   "source": [
    "test = tp.nlp(text_to_process)"
   ]
  },
  {
   "cell_type": "code",
   "execution_count": null,
   "metadata": {},
   "outputs": [],
   "source": [
    "entities_types_to_parse = [\n",
    "    EntType.DOC_TITLE,\n",
    "    EntType.DOC_ABBR,\n",
    "    EntType.CLEN,\n",
    "    EntType.CLEN_LEFT,\n",
    "]\n",
    "\n",
    "type_to_found_entities = {x: _find_entity(test, x) for x in entities_types_to_parse}"
   ]
  },
  {
   "cell_type": "code",
   "execution_count": 7,
   "metadata": {},
   "outputs": [],
   "source": [
    "SpanTmp = namedtuple(\"Span\", [\"span\", \"start\", \"end\"])\n",
    "\n",
    "_spans = [SpanTmp(x, x.start, x.end) for x in test.spans[\"spans\"]]\n",
    "\n",
    "spans_filtered = []\n",
    "while _spans:\n",
    "    is_contained = False\n",
    "    x = _spans.pop()\n",
    "    for other in spans_filtered:\n",
    "        if x.start >= other.start and x.end <= other.end:\n",
    "            is_contained = True\n",
    "\n",
    "    if is_contained:\n",
    "        continue\n",
    "\n",
    "    spans_filtered.append(x.span)"
   ]
  },
  {
   "cell_type": "code",
   "execution_count": null,
   "metadata": {},
   "outputs": [],
   "source": [
    "test.spans[\"sc\"] = spans_filtered\n",
    "displacy.render(test, style=\"span\")"
   ]
  },
  {
   "cell_type": "code",
   "execution_count": null,
   "metadata": {},
   "outputs": [],
   "source": [
    "displacy.serve(test, style=\"span\", port=8000)"
   ]
  },
  {
   "cell_type": "code",
   "execution_count": 9,
   "metadata": {},
   "outputs": [],
   "source": [
    "zveza_found = []\n",
    "\n",
    "navedbe_zakona = [x for x in test.spans[\"spans\"] if x.label_ == \"navedba_zakona\"]\n",
    "for span in navedbe_zakona:\n",
    "    entities_types_to_parse = [\n",
    "        EntType.DOC_TITLE,\n",
    "        EntType.DOC_ABBR,\n",
    "        EntType.CLEN,\n",
    "        EntType.CLEN_LEFT,\n",
    "    ]\n",
    "\n",
    "    # Extract abbreviations\n",
    "    type_to_found_entities = {x: _find_entity(span, x) for x in entities_types_to_parse}\n",
    "    _abbr = _map_titles_to_abbreviations(\n",
    "        titles=type_to_found_entities[EntType.DOC_TITLE], tp=tp\n",
    "    )\n",
    "    _abbr.extend(type_to_found_entities[EntType.DOC_ABBR])\n",
    "    found_abbr = max([str(x) for x in _abbr], key=len)\n",
    "\n",
    "    # Extract clens\n",
    "    nums = []\n",
    "    for x in span.text.split(\" \"):\n",
    "        pattern = r\"\\d{1,4}\\.\"\n",
    "        matches = []\n",
    "        for word in x:\n",
    "            if re.match(pattern, word):\n",
    "                matches.append(word)\n",
    "\n",
    "    if len(nums) > 1:\n",
    "        for num in nums:\n",
    "            zveza_found.append(f\"{num} člen {found_abbr}\")\n",
    "    else:\n",
    "        clens = [\n",
    "            *[str(x) for x in type_to_found_entities[EntType.CLEN]],\n",
    "            *[str(x) for x in type_to_found_entities[EntType.CLEN_LEFT]],\n",
    "        ]\n",
    "\n",
    "        if len(clens) != 1:\n",
    "            print(clens)\n",
    "            raise ValueError\n",
    "\n",
    "        for x in clens:\n",
    "            found_clen = _normalize_input_for_clen(str(x))\n",
    "            zveza_found.append(f\"{found_clen} {found_abbr}\")\n",
    "\n",
    "        if not found_clen.split(\" \")[0].strip(\".\").isdigit():\n",
    "            found_num = found_clen.split(\".\")[0]\n",
    "            zveza_found.append(f\"{found_num}. člen {found_abbr}\")\n",
    "\n",
    "zveza_found = sorted(list(set(zveza_found)), key=lambda x: int(x.split(\".\")[0]))\n"
   ]
  },
  {
   "cell_type": "code",
   "execution_count": null,
   "metadata": {},
   "outputs": [],
   "source": [
    "zveza_found"
   ]
  },
  {
   "cell_type": "code",
   "execution_count": null,
   "metadata": {},
   "outputs": [],
   "source": [
    "zveza_true"
   ]
  },
  {
   "cell_type": "code",
   "execution_count": null,
   "metadata": {},
   "outputs": [],
   "source": [
    "set(zveza_true).issubset(set(zveza_found))"
   ]
  }
 ],
 "metadata": {
  "kernelspec": {
   "display_name": "vs-poc",
   "language": "python",
   "name": "python3"
  },
  "language_info": {
   "codemirror_mode": {
    "name": "ipython",
    "version": 3
   },
   "file_extension": ".py",
   "mimetype": "text/x-python",
   "name": "python",
   "nbconvert_exporter": "python",
   "pygments_lexer": "ipython3",
   "version": "3.10.16"
  }
 },
 "nbformat": 4,
 "nbformat_minor": 2
}
