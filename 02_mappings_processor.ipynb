{
 "cells": [
  {
   "cell_type": "code",
   "execution_count": 1,
   "metadata": {},
   "outputs": [
    {
     "name": "stderr",
     "output_type": "stream",
     "text": [
      "2025-02-26 10:46:01 INFO: Loading these models for language: sl (Slovenian):\n",
      "========================\n",
      "| Processor | Package  |\n",
      "------------------------\n",
      "| tokenize  | standard |\n",
      "| pos       | standard |\n",
      "| lemma     | standard |\n",
      "========================\n",
      "\n",
      "2025-02-26 10:46:01 INFO: Use device: cpu\n",
      "2025-02-26 10:46:01 INFO: Loading: tokenize\n",
      "2025-02-26 10:46:01 INFO: Loading: pos\n",
      "2025-02-26 10:46:05 INFO: Loading: lemma\n",
      "2025-02-26 10:46:08 INFO: Done loading processors!\n"
     ]
    }
   ],
   "source": [
    "import pandas as pd\n",
    "from src.parse import _get_law_abbreviation, _strip_law_abbreviation\n",
    "from src.nlp.text_processor import TextProcessor\n",
    "\n",
    "tp = TextProcessor()"
   ]
  },
  {
   "cell_type": "code",
   "execution_count": 2,
   "metadata": {},
   "outputs": [
    {
     "data": {
      "text/html": [
       "<div>\n",
       "<style scoped>\n",
       "    .dataframe tbody tr th:only-of-type {\n",
       "        vertical-align: middle;\n",
       "    }\n",
       "\n",
       "    .dataframe tbody tr th {\n",
       "        vertical-align: top;\n",
       "    }\n",
       "\n",
       "    .dataframe thead th {\n",
       "        text-align: right;\n",
       "    }\n",
       "</style>\n",
       "<table border=\"1\" class=\"dataframe\">\n",
       "  <thead>\n",
       "    <tr style=\"text-align: right;\">\n",
       "      <th></th>\n",
       "      <th>entity_id</th>\n",
       "      <th>document_title</th>\n",
       "      <th>document_id</th>\n",
       "      <th>abbreviation</th>\n",
       "      <th>document_title_striped</th>\n",
       "      <th>document_title_lemmatized</th>\n",
       "    </tr>\n",
       "  </thead>\n",
       "  <tbody>\n",
       "    <tr>\n",
       "      <th>0</th>\n",
       "      <td>af476a961-4504-49d7-89f8-5a31d59b1c15</td>\n",
       "      <td>Ustava Republike Slovenije (URS)</td>\n",
       "      <td>RS 33-1409/1991I</td>\n",
       "      <td>URS</td>\n",
       "      <td>Ustava Republike Slovenije</td>\n",
       "      <td>ustava republika Slovenija</td>\n",
       "    </tr>\n",
       "    <tr>\n",
       "      <th>0</th>\n",
       "      <td>b31c19b7-f5e9-492a-be47-6939e80c9b58</td>\n",
       "      <td>Zakon o trgu vrednostnih papirjev (ZTVP)</td>\n",
       "      <td>RS 6-267/1994</td>\n",
       "      <td>ZTVP</td>\n",
       "      <td>Zakon o trgu vrednostnih papirjev</td>\n",
       "      <td>zakon o trg vrednosten papir</td>\n",
       "    </tr>\n",
       "    <tr>\n",
       "      <th>1</th>\n",
       "      <td>020d8be8-3c2a-4e25-abe6-273147bcdd1c</td>\n",
       "      <td>Zakon o čeku (ZC)</td>\n",
       "      <td>FLRJ 105-735/1946</td>\n",
       "      <td>ZC</td>\n",
       "      <td>Zakon o čeku</td>\n",
       "      <td>zakon o ček</td>\n",
       "    </tr>\n",
       "    <tr>\n",
       "      <th>3</th>\n",
       "      <td>a2e29b0f0-e376-4fbf-9a86-cfae5082809d</td>\n",
       "      <td>Zakon o menici (ZM)</td>\n",
       "      <td>FLRJ 104-728/1946</td>\n",
       "      <td>ZM</td>\n",
       "      <td>Zakon o menici</td>\n",
       "      <td>zakon o menica</td>\n",
       "    </tr>\n",
       "    <tr>\n",
       "      <th>4</th>\n",
       "      <td>aE_9f1c1c45-24bd-44d0-a63b-1f922a601203</td>\n",
       "      <td>Zakon o trgu finančnih instrumentov (ZTFI)</td>\n",
       "      <td>RS 67-3699/2007</td>\n",
       "      <td>ZTFI</td>\n",
       "      <td>Zakon o trgu finančnih instrumentov</td>\n",
       "      <td>zakon o trg finančen instrument</td>\n",
       "    </tr>\n",
       "  </tbody>\n",
       "</table>\n",
       "</div>"
      ],
      "text/plain": [
       "                                 entity_id  \\\n",
       "0    af476a961-4504-49d7-89f8-5a31d59b1c15   \n",
       "0     b31c19b7-f5e9-492a-be47-6939e80c9b58   \n",
       "1     020d8be8-3c2a-4e25-abe6-273147bcdd1c   \n",
       "3    a2e29b0f0-e376-4fbf-9a86-cfae5082809d   \n",
       "4  aE_9f1c1c45-24bd-44d0-a63b-1f922a601203   \n",
       "\n",
       "                               document_title        document_id abbreviation  \\\n",
       "0            Ustava Republike Slovenije (URS)   RS 33-1409/1991I          URS   \n",
       "0    Zakon o trgu vrednostnih papirjev (ZTVP)      RS 6-267/1994         ZTVP   \n",
       "1                           Zakon o čeku (ZC)  FLRJ 105-735/1946           ZC   \n",
       "3                         Zakon o menici (ZM)  FLRJ 104-728/1946           ZM   \n",
       "4  Zakon o trgu finančnih instrumentov (ZTFI)    RS 67-3699/2007         ZTFI   \n",
       "\n",
       "                document_title_striped        document_title_lemmatized  \n",
       "0           Ustava Republike Slovenije       ustava republika Slovenija  \n",
       "0    Zakon o trgu vrednostnih papirjev     zakon o trg vrednosten papir  \n",
       "1                         Zakon o čeku                      zakon o ček  \n",
       "3                       Zakon o menici                   zakon o menica  \n",
       "4  Zakon o trgu finančnih instrumentov  zakon o trg finančen instrument  "
      ]
     },
     "execution_count": 2,
     "metadata": {},
     "output_type": "execute_result"
    }
   ],
   "source": [
    "laws_staging = pd.read_parquet(\"./data/mappings/legislation_laws_staging.parquet\")\n",
    "laws_staging.head()"
   ]
  },
  {
   "cell_type": "code",
   "execution_count": 3,
   "metadata": {},
   "outputs": [
    {
     "data": {
      "text/plain": [
       "(4956, 6)"
      ]
     },
     "execution_count": 3,
     "metadata": {},
     "output_type": "execute_result"
    }
   ],
   "source": [
    "laws_staging.shape"
   ]
  },
  {
   "cell_type": "code",
   "execution_count": 4,
   "metadata": {},
   "outputs": [
    {
     "data": {
      "text/html": [
       "<div>\n",
       "<style scoped>\n",
       "    .dataframe tbody tr th:only-of-type {\n",
       "        vertical-align: middle;\n",
       "    }\n",
       "\n",
       "    .dataframe tbody tr th {\n",
       "        vertical-align: top;\n",
       "    }\n",
       "\n",
       "    .dataframe thead th {\n",
       "        text-align: right;\n",
       "    }\n",
       "</style>\n",
       "<table border=\"1\" class=\"dataframe\">\n",
       "  <thead>\n",
       "    <tr style=\"text-align: right;\">\n",
       "      <th></th>\n",
       "      <th>document_title</th>\n",
       "      <th>document_type_class</th>\n",
       "    </tr>\n",
       "  </thead>\n",
       "  <tbody>\n",
       "    <tr>\n",
       "      <th>0</th>\n",
       "      <td>Uredba o ratifikaciji Protokola med Ministrstv...</td>\n",
       "      <td>predpis_tfl</td>\n",
       "    </tr>\n",
       "    <tr>\n",
       "      <th>1</th>\n",
       "      <td>Zakon o Pomurski akademsko-znanstveni uniji (P...</td>\n",
       "      <td>zakon_tfl</td>\n",
       "    </tr>\n",
       "    <tr>\n",
       "      <th>2</th>\n",
       "      <td>Sklep o glavnih znamenjih bankovcev za 1000, 5...</td>\n",
       "      <td>predpis_tfl</td>\n",
       "    </tr>\n",
       "    <tr>\n",
       "      <th>3</th>\n",
       "      <td>Pravilnik o merilih, postopku in načinu delitv...</td>\n",
       "      <td>predpis_tfl</td>\n",
       "    </tr>\n",
       "    <tr>\n",
       "      <th>4</th>\n",
       "      <td>Zakon o slovenski razvojni družbi in programu ...</td>\n",
       "      <td>zakon_tfl</td>\n",
       "    </tr>\n",
       "  </tbody>\n",
       "</table>\n",
       "</div>"
      ],
      "text/plain": [
       "                                      document_title document_type_class\n",
       "0  Uredba o ratifikaciji Protokola med Ministrstv...         predpis_tfl\n",
       "1  Zakon o Pomurski akademsko-znanstveni uniji (P...           zakon_tfl\n",
       "2  Sklep o glavnih znamenjih bankovcev za 1000, 5...         predpis_tfl\n",
       "3  Pravilnik o merilih, postopku in načinu delitv...         predpis_tfl\n",
       "4  Zakon o slovenski razvojni družbi in programu ...           zakon_tfl"
      ]
     },
     "execution_count": 4,
     "metadata": {},
     "output_type": "execute_result"
    }
   ],
   "source": [
    "docs = pd.read_parquet(\"./data/mappings/document_overview.parquet\")\n",
    "docs.head()"
   ]
  },
  {
   "cell_type": "code",
   "execution_count": 5,
   "metadata": {},
   "outputs": [],
   "source": [
    "new_db_abbrs = (\n",
    "    docs[docs[\"document_type_class\"] == \"zakon_tfl\"]\n",
    "    .apply(lambda x: _get_law_abbreviation(x[\"document_title\"]), axis=1)\n",
    "    .to_list()\n",
    ")\n",
    "\n",
    "new_db_titles = docs.loc[\n",
    "    docs[\"document_type_class\"] == \"zakon_tfl\", \"document_title\"\n",
    "].to_list()\n",
    "\n",
    "new_db_titles_stripped = (\n",
    "    docs[docs[\"document_type_class\"] == \"zakon_tfl\"]\n",
    "    .apply(lambda x: _strip_law_abbreviation(x[\"document_title\"]), axis=1)\n",
    "    .to_list()\n",
    ")\n",
    "\n",
    "new_db_titles_lemmatized = [tp.lemmatize_text(x) for x in new_db_titles_stripped]\n"
   ]
  },
  {
   "cell_type": "code",
   "execution_count": 6,
   "metadata": {},
   "outputs": [],
   "source": [
    "new_entries = pd.DataFrame.from_records(\n",
    "    [\n",
    "        {\n",
    "            \"document_title\": title,\n",
    "            \"abbreviation\": abbr,\n",
    "            \"document_title_striped\": stripped,\n",
    "            \"document_title_lemmatized\": lemma,\n",
    "        }\n",
    "        for title, abbr, stripped, lemma in zip(\n",
    "            new_db_titles,\n",
    "            new_db_abbrs,\n",
    "            new_db_titles_stripped,\n",
    "            new_db_titles_lemmatized,\n",
    "        )\n",
    "    ]\n",
    ")"
   ]
  },
  {
   "cell_type": "code",
   "execution_count": 17,
   "metadata": {},
   "outputs": [],
   "source": [
    "pd.concat([laws_staging, new_entries])[\n",
    "    [\n",
    "        \"document_title\",\n",
    "        \"document_title_striped\",\n",
    "        \"document_title_lemmatized\",\n",
    "        \"abbreviation\",\n",
    "    ]\n",
    "].drop_duplicates().sort_values(by=\"document_title\").to_parquet(\n",
    "    \"./data/mappings/legislation_mappings_from_db.parquet\"\n",
    ")"
   ]
  }
 ],
 "metadata": {
  "kernelspec": {
   "display_name": "vs-poc",
   "language": "python",
   "name": "python3"
  },
  "language_info": {
   "codemirror_mode": {
    "name": "ipython",
    "version": 3
   },
   "file_extension": ".py",
   "mimetype": "text/x-python",
   "name": "python",
   "nbconvert_exporter": "python",
   "pygments_lexer": "ipython3",
   "version": "3.10.16"
  }
 },
 "nbformat": 4,
 "nbformat_minor": 2
}
